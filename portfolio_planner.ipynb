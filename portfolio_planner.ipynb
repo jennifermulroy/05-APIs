{
 "cells": [
  {
   "cell_type": "code",
   "execution_count": 336,
   "metadata": {},
   "outputs": [],
   "source": [
    "import numpy as np\n",
    "import pandas as pd\n",
    "from datetime import datetime, timedelta\n",
    "import matplotlib.pyplot as plt\n",
    "%matplotlib inline\n",
    "import os"
   ]
  },
  {
   "cell_type": "code",
   "execution_count": 337,
   "metadata": {},
   "outputs": [],
   "source": [
    "np.random.seed(42)"
   ]
  },
  {
   "cell_type": "markdown",
   "metadata": {},
   "source": [
    "# Portfolio Planner\n",
    "\n",
    "In this activity, you will use the iedfinance api to grab historical data for a 60/40 portfolio using `SPY` to represent the stock portion and `AGG` to represent the bonds."
   ]
  },
  {
   "cell_type": "code",
   "execution_count": 338,
   "metadata": {},
   "outputs": [],
   "source": [
    "from iexfinance.stocks import get_historical_data\n",
    "from iexfinance.refdata import get_symbols\n",
    "import iexfinance as iex\n",
    "\n"
   ]
  },
  {
   "cell_type": "markdown",
   "metadata": {},
   "source": [
    "# Data Collection\n",
    "\n",
    "In this step, you will need to use the IEX api to fetch closing prices for the `SPY` and `AGG` tickers. Save the results as a pandas DataFrame"
   ]
  },
  {
   "cell_type": "code",
   "execution_count": 433,
   "metadata": {},
   "outputs": [
    {
     "data": {
      "text/html": [
       "<div>\n",
       "<style scoped>\n",
       "    .dataframe tbody tr th:only-of-type {\n",
       "        vertical-align: middle;\n",
       "    }\n",
       "\n",
       "    .dataframe tbody tr th {\n",
       "        vertical-align: top;\n",
       "    }\n",
       "\n",
       "    .dataframe thead tr th {\n",
       "        text-align: left;\n",
       "    }\n",
       "\n",
       "    .dataframe thead tr:last-of-type th {\n",
       "        text-align: right;\n",
       "    }\n",
       "</style>\n",
       "<table border=\"1\" class=\"dataframe\">\n",
       "  <thead>\n",
       "    <tr>\n",
       "      <th></th>\n",
       "      <th>SPY</th>\n",
       "      <th>AGG</th>\n",
       "    </tr>\n",
       "    <tr>\n",
       "      <th></th>\n",
       "      <th>close</th>\n",
       "      <th>close</th>\n",
       "    </tr>\n",
       "    <tr>\n",
       "      <th>date</th>\n",
       "      <th></th>\n",
       "      <th></th>\n",
       "    </tr>\n",
       "  </thead>\n",
       "  <tbody>\n",
       "    <tr>\n",
       "      <td>2014-09-29</td>\n",
       "      <td>197.54</td>\n",
       "      <td>109.18</td>\n",
       "    </tr>\n",
       "    <tr>\n",
       "      <td>2014-09-30</td>\n",
       "      <td>197.02</td>\n",
       "      <td>109.11</td>\n",
       "    </tr>\n",
       "    <tr>\n",
       "      <td>2014-10-01</td>\n",
       "      <td>194.35</td>\n",
       "      <td>109.53</td>\n",
       "    </tr>\n",
       "    <tr>\n",
       "      <td>2014-10-02</td>\n",
       "      <td>194.38</td>\n",
       "      <td>109.35</td>\n",
       "    </tr>\n",
       "    <tr>\n",
       "      <td>2014-10-03</td>\n",
       "      <td>196.52</td>\n",
       "      <td>109.30</td>\n",
       "    </tr>\n",
       "  </tbody>\n",
       "</table>\n",
       "</div>"
      ],
      "text/plain": [
       "               SPY     AGG\n",
       "             close   close\n",
       "date                      \n",
       "2014-09-29  197.54  109.18\n",
       "2014-09-30  197.02  109.11\n",
       "2014-10-01  194.35  109.53\n",
       "2014-10-02  194.38  109.35\n",
       "2014-10-03  196.52  109.30"
      ]
     },
     "execution_count": 433,
     "metadata": {},
     "output_type": "execute_result"
    }
   ],
   "source": [
    "\n",
    "\n",
    "list_of_tickers = [\"SPY\", \"AGG\"]\n",
    "\n",
    "end_date = datetime.now()\n",
    "start_date = end_date + timedelta(-1825)\n",
    "\n",
    "# Get 5 year's worth of historical data for `SPY` and `AGG`\n",
    "df = get_historical_data(list_of_tickers, start_date, end_date,  output_format='pandas')\n",
    "df.drop(columns=['open', 'high', 'low', 'volume'], level=1, inplace=True)\n",
    "df.head()"
   ]
  },
  {
   "cell_type": "code",
   "execution_count": 414,
   "metadata": {},
   "outputs": [
    {
     "data": {
      "text/plain": [
       "<matplotlib.axes._subplots.AxesSubplot at 0x2a6b45debe0>"
      ]
     },
     "execution_count": 414,
     "metadata": {},
     "output_type": "execute_result"
    },
    {
     "data": {
      "image/png": "[encoded data removed]",
      "text/plain": [
       "<Figure size 432x288 with 1 Axes>"
      ]
     },
     "metadata": {
      "needs_background": "light"
     },
     "output_type": "display_data"
    }
   ],
   "source": [
    "daily_change_original = df.pct_change()\n",
    "cum_return = (1+daily_change_original).cumprod()-1\n",
    "cum_return.tail()\n",
    "\n",
    "cum_return.plot()"
   ]
  },
  {
   "cell_type": "markdown",
   "metadata": {},
   "source": [
    "# Monte Carlo Simulation\n",
    "\n",
    "In this step, you will run Monte Carlo Simulations for your portfolio to model portfolio performance at different retirement ages. \n",
    "\n",
    "Complete the following steps:\n",
    "1. Calculate the daily returns for the SPY and AGG closing prices.\n",
    "2. Calculate volatility for both the SPY and AGG closing prices.\n",
    "3. Find the last day's closing price for both stocks and save those as variables.\n",
    "4. Run a Monte Carlo Simulation of at least 100 iterations and generate at least 20 years of closing prices\n",
    "\n",
    "### HINTS:\n",
    "There are 252 trading days per year, so the number of records to generate for each Monte Carlo run will be 252 days * 20 years"
   ]
  },
  {
   "cell_type": "code",
   "execution_count": 415,
   "metadata": {},
   "outputs": [
    {
     "data": {
      "text/html": [
       "<div>\n",
       "<style scoped>\n",
       "    .dataframe tbody tr th:only-of-type {\n",
       "        vertical-align: middle;\n",
       "    }\n",
       "\n",
       "    .dataframe tbody tr th {\n",
       "        vertical-align: top;\n",
       "    }\n",
       "\n",
       "    .dataframe thead tr th {\n",
       "        text-align: left;\n",
       "    }\n",
       "\n",
       "    .dataframe thead tr:last-of-type th {\n",
       "        text-align: right;\n",
       "    }\n",
       "</style>\n",
       "<table border=\"1\" class=\"dataframe\">\n",
       "  <thead>\n",
       "    <tr>\n",
       "      <th></th>\n",
       "      <th>SPY</th>\n",
       "      <th>AGG</th>\n",
       "    </tr>\n",
       "    <tr>\n",
       "      <th></th>\n",
       "      <th>close</th>\n",
       "      <th>close</th>\n",
       "    </tr>\n",
       "    <tr>\n",
       "      <th>date</th>\n",
       "      <th></th>\n",
       "      <th></th>\n",
       "    </tr>\n",
       "  </thead>\n",
       "  <tbody>\n",
       "    <tr>\n",
       "      <td>2019-09-20</td>\n",
       "      <td>-0.009300</td>\n",
       "      <td>0.003644</td>\n",
       "    </tr>\n",
       "    <tr>\n",
       "      <td>2019-09-23</td>\n",
       "      <td>-0.000235</td>\n",
       "      <td>0.000443</td>\n",
       "    </tr>\n",
       "    <tr>\n",
       "      <td>2019-09-24</td>\n",
       "      <td>-0.007847</td>\n",
       "      <td>0.002744</td>\n",
       "    </tr>\n",
       "    <tr>\n",
       "      <td>2019-09-25</td>\n",
       "      <td>0.005915</td>\n",
       "      <td>-0.004149</td>\n",
       "    </tr>\n",
       "    <tr>\n",
       "      <td>2019-09-26</td>\n",
       "      <td>-0.002083</td>\n",
       "      <td>0.001684</td>\n",
       "    </tr>\n",
       "  </tbody>\n",
       "</table>\n",
       "</div>"
      ],
      "text/plain": [
       "                 SPY       AGG\n",
       "               close     close\n",
       "date                          \n",
       "2019-09-20 -0.009300  0.003644\n",
       "2019-09-23 -0.000235  0.000443\n",
       "2019-09-24 -0.007847  0.002744\n",
       "2019-09-25  0.005915 -0.004149\n",
       "2019-09-26 -0.002083  0.001684"
      ]
     },
     "execution_count": 415,
     "metadata": {},
     "output_type": "execute_result"
    }
   ],
   "source": [
    "# Calculate the daily roi for the stocks\n",
    "daily_returns = df.pct_change()\n",
    "daily_returns.tail()"
   ]
  },
  {
   "cell_type": "code",
   "execution_count": 416,
   "metadata": {},
   "outputs": [
    {
     "data": {
      "text/plain": [
       "0.00036182323305579514"
      ]
     },
     "execution_count": 416,
     "metadata": {},
     "output_type": "execute_result"
    }
   ],
   "source": [
    "avg_daily_return_spy = daily_returns.mean()['SPY']['close']\n",
    "avg_daily_return_agg = daily_returns.mean()['AGG']['close']\n",
    "avg_daily_return_spy"
   ]
  },
  {
   "cell_type": "code",
   "execution_count": 417,
   "metadata": {},
   "outputs": [
    {
     "data": {
      "text/plain": [
       "0.002034134558635887"
      ]
     },
     "execution_count": 417,
     "metadata": {},
     "output_type": "execute_result"
    }
   ],
   "source": [
    "# Calculate volatility\n",
    "std_dev_daily_return_spy = daily_returns.std()['SPY']['close']\n",
    "std_dev_daily_return_agg = daily_returns.std()['AGG']['close']\n",
    "std_dev_daily_return_agg"
   ]
  },
  {
   "cell_type": "code",
   "execution_count": 418,
   "metadata": {},
   "outputs": [],
   "source": [
    "# Save the last day's closing price\n",
    "spy_last_price = df['SPY']['close'][-1]\n",
    "agg_last_price = df['AGG']['close'][-1]"
   ]
  },
  {
   "cell_type": "code",
   "execution_count": 419,
   "metadata": {},
   "outputs": [],
   "source": [
    "# Setup the Monte Carlo Parameters\n",
    "number_simulations = 500\n",
    "number_records = 252 * 30\n",
    "monte_carlo = pd.DataFrame()\n",
    "portfolio_cumulative_returns = pd.DataFrame()"
   ]
  },
  {
   "cell_type": "code",
   "execution_count": 420,
   "metadata": {},
   "outputs": [
    {
     "data": {
      "text/html": [
       "<div>\n",
       "<style scoped>\n",
       "    .dataframe tbody tr th:only-of-type {\n",
       "        vertical-align: middle;\n",
       "    }\n",
       "\n",
       "    .dataframe tbody tr th {\n",
       "        vertical-align: top;\n",
       "    }\n",
       "\n",
       "    .dataframe thead th {\n",
       "        text-align: right;\n",
       "    }\n",
       "</style>\n",
       "<table border=\"1\" class=\"dataframe\">\n",
       "  <thead>\n",
       "    <tr style=\"text-align: right;\">\n",
       "      <th></th>\n",
       "      <th>0</th>\n",
       "      <th>1</th>\n",
       "      <th>2</th>\n",
       "      <th>3</th>\n",
       "      <th>4</th>\n",
       "      <th>5</th>\n",
       "      <th>6</th>\n",
       "      <th>7</th>\n",
       "      <th>8</th>\n",
       "      <th>9</th>\n",
       "      <th>...</th>\n",
       "      <th>490</th>\n",
       "      <th>491</th>\n",
       "      <th>492</th>\n",
       "      <th>493</th>\n",
       "      <th>494</th>\n",
       "      <th>495</th>\n",
       "      <th>496</th>\n",
       "      <th>497</th>\n",
       "      <th>498</th>\n",
       "      <th>499</th>\n",
       "    </tr>\n",
       "  </thead>\n",
       "  <tbody>\n",
       "    <tr>\n",
       "      <td>7556</td>\n",
       "      <td>7.058012</td>\n",
       "      <td>5.406780</td>\n",
       "      <td>5.775669</td>\n",
       "      <td>5.469782</td>\n",
       "      <td>3.239634</td>\n",
       "      <td>8.008492</td>\n",
       "      <td>4.573506</td>\n",
       "      <td>2.785102</td>\n",
       "      <td>4.438996</td>\n",
       "      <td>8.105632</td>\n",
       "      <td>...</td>\n",
       "      <td>5.267182</td>\n",
       "      <td>4.419577</td>\n",
       "      <td>6.997196</td>\n",
       "      <td>4.344792</td>\n",
       "      <td>8.391749</td>\n",
       "      <td>5.241978</td>\n",
       "      <td>4.823340</td>\n",
       "      <td>3.290873</td>\n",
       "      <td>3.223687</td>\n",
       "      <td>2.555590</td>\n",
       "    </tr>\n",
       "    <tr>\n",
       "      <td>7557</td>\n",
       "      <td>7.063458</td>\n",
       "      <td>5.376716</td>\n",
       "      <td>5.723596</td>\n",
       "      <td>5.494002</td>\n",
       "      <td>3.244573</td>\n",
       "      <td>8.049467</td>\n",
       "      <td>4.545036</td>\n",
       "      <td>2.761479</td>\n",
       "      <td>4.438277</td>\n",
       "      <td>8.056396</td>\n",
       "      <td>...</td>\n",
       "      <td>5.237694</td>\n",
       "      <td>4.383223</td>\n",
       "      <td>7.041489</td>\n",
       "      <td>4.367562</td>\n",
       "      <td>8.337178</td>\n",
       "      <td>5.205888</td>\n",
       "      <td>4.827985</td>\n",
       "      <td>3.301682</td>\n",
       "      <td>3.228299</td>\n",
       "      <td>2.536650</td>\n",
       "    </tr>\n",
       "    <tr>\n",
       "      <td>7558</td>\n",
       "      <td>7.017801</td>\n",
       "      <td>5.397154</td>\n",
       "      <td>5.756727</td>\n",
       "      <td>5.514155</td>\n",
       "      <td>3.245529</td>\n",
       "      <td>8.041487</td>\n",
       "      <td>4.534808</td>\n",
       "      <td>2.772632</td>\n",
       "      <td>4.420896</td>\n",
       "      <td>8.092209</td>\n",
       "      <td>...</td>\n",
       "      <td>5.234046</td>\n",
       "      <td>4.410049</td>\n",
       "      <td>7.055005</td>\n",
       "      <td>4.383781</td>\n",
       "      <td>8.262193</td>\n",
       "      <td>5.216015</td>\n",
       "      <td>4.877088</td>\n",
       "      <td>3.299504</td>\n",
       "      <td>3.219488</td>\n",
       "      <td>2.534064</td>\n",
       "    </tr>\n",
       "    <tr>\n",
       "      <td>7559</td>\n",
       "      <td>6.963146</td>\n",
       "      <td>5.442604</td>\n",
       "      <td>5.760225</td>\n",
       "      <td>5.547351</td>\n",
       "      <td>3.236223</td>\n",
       "      <td>8.117102</td>\n",
       "      <td>4.528543</td>\n",
       "      <td>2.779209</td>\n",
       "      <td>4.433297</td>\n",
       "      <td>8.054198</td>\n",
       "      <td>...</td>\n",
       "      <td>5.236261</td>\n",
       "      <td>4.403311</td>\n",
       "      <td>7.033208</td>\n",
       "      <td>4.411106</td>\n",
       "      <td>8.317573</td>\n",
       "      <td>5.216186</td>\n",
       "      <td>4.854987</td>\n",
       "      <td>3.301441</td>\n",
       "      <td>3.209868</td>\n",
       "      <td>2.538529</td>\n",
       "    </tr>\n",
       "    <tr>\n",
       "      <td>7560</td>\n",
       "      <td>7.020988</td>\n",
       "      <td>5.421087</td>\n",
       "      <td>5.755251</td>\n",
       "      <td>5.541550</td>\n",
       "      <td>3.250641</td>\n",
       "      <td>8.191517</td>\n",
       "      <td>4.557897</td>\n",
       "      <td>2.784149</td>\n",
       "      <td>4.436094</td>\n",
       "      <td>8.071849</td>\n",
       "      <td>...</td>\n",
       "      <td>5.265512</td>\n",
       "      <td>4.408152</td>\n",
       "      <td>7.061840</td>\n",
       "      <td>4.435802</td>\n",
       "      <td>8.338831</td>\n",
       "      <td>5.198858</td>\n",
       "      <td>4.840838</td>\n",
       "      <td>3.291293</td>\n",
       "      <td>3.202536</td>\n",
       "      <td>2.540656</td>\n",
       "    </tr>\n",
       "  </tbody>\n",
       "</table>\n",
       "<p>5 rows × 500 columns</p>\n",
       "</div>"
      ],
      "text/plain": [
       "           0         1         2         3         4         5         6    \\\n",
       "7556  7.058012  5.406780  5.775669  5.469782  3.239634  8.008492  4.573506   \n",
       "7557  7.063458  5.376716  5.723596  5.494002  3.244573  8.049467  4.545036   \n",
       "7558  7.017801  5.397154  5.756727  5.514155  3.245529  8.041487  4.534808   \n",
       "7559  6.963146  5.442604  5.760225  5.547351  3.236223  8.117102  4.528543   \n",
       "7560  7.020988  5.421087  5.755251  5.541550  3.250641  8.191517  4.557897   \n",
       "\n",
       "           7         8         9    ...       490       491       492  \\\n",
       "7556  2.785102  4.438996  8.105632  ...  5.267182  4.419577  6.997196   \n",
       "7557  2.761479  4.438277  8.056396  ...  5.237694  4.383223  7.041489   \n",
       "7558  2.772632  4.420896  8.092209  ...  5.234046  4.410049  7.055005   \n",
       "7559  2.779209  4.433297  8.054198  ...  5.236261  4.403311  7.033208   \n",
       "7560  2.784149  4.436094  8.071849  ...  5.265512  4.408152  7.061840   \n",
       "\n",
       "           493       494       495       496       497       498       499  \n",
       "7556  4.344792  8.391749  5.241978  4.823340  3.290873  3.223687  2.555590  \n",
       "7557  4.367562  8.337178  5.205888  4.827985  3.301682  3.228299  2.536650  \n",
       "7558  4.383781  8.262193  5.216015  4.877088  3.299504  3.219488  2.534064  \n",
       "7559  4.411106  8.317573  5.216186  4.854987  3.301441  3.209868  2.538529  \n",
       "7560  4.435802  8.338831  5.198858  4.840838  3.291293  3.202536  2.540656  \n",
       "\n",
       "[5 rows x 500 columns]"
      ]
     },
     "execution_count": 420,
     "metadata": {},
     "output_type": "execute_result"
    }
   ],
   "source": [
    "# Run the Monte Carlo Simulation\n",
    "for n in range(number_simulations):\n",
    "    \n",
    "    sim_price_list_spy = [spy_last_price]\n",
    "    sim_price_list_agg = [agg_last_price]\n",
    "    \n",
    "    for i in range(number_records):\n",
    "        \n",
    "        sim_price_result_spy = sim_price_list_spy[-1] * (1 + np.random.normal(avg_daily_return_spy,std_dev_daily_return_spy))\n",
    "        sim_price_result_agg = sim_price_list_agg[-1] * (1 + np.random.normal(avg_daily_return_agg,std_dev_daily_return_agg))\n",
    "        \n",
    "        sim_price_list_spy.append(sim_price_result_spy)\n",
    "        sim_price_list_agg.append(sim_price_result_agg)\n",
    "    \n",
    "    monte_carlo[\"SPY prices\"] = pd.Series(sim_price_list_spy)\n",
    "    monte_carlo[\"AGG prices\"] = pd.Series(sim_price_list_agg)\n",
    "    \n",
    "    simulated_daily_returns = monte_carlo.pct_change()\n",
    "\n",
    "    weights = [0.60, 0.40]\n",
    "    \n",
    "    portfolio_daily_returns = simulated_daily_returns.dot(weights)\n",
    "    portfolio_cumulative_returns[n] = (1 + portfolio_daily_returns.fillna(0)).cumprod()\n",
    "\n",
    "portfolio_cumulative_returns.tail()\n"
   ]
  },
  {
   "cell_type": "code",
   "execution_count": 421,
   "metadata": {},
   "outputs": [
    {
     "data": {
      "text/plain": [
       "<matplotlib.axes._subplots.AxesSubplot at 0x2a6b45ca400>"
      ]
     },
     "execution_count": 421,
     "metadata": {},
     "output_type": "execute_result"
    },
    {
     "data": {
      "image/png": "[encoded data removed]",
      "text/plain": [
       "<Figure size 432x288 with 1 Axes>"
      ]
     },
     "metadata": {
      "needs_background": "light"
     },
     "output_type": "display_data"
    }
   ],
   "source": [
    "# Visualize the Simulation\n",
    "\n",
    "plot_title = f\"{n+1} Simulations of Cumulative Portfolio Return Trajectories Over the Next 30 years\"\n",
    "portfolio_cumulative_returns.plot(legend=None, title=plot_title)"
   ]
  },
  {
   "cell_type": "code",
   "execution_count": 422,
   "metadata": {},
   "outputs": [
    {
     "data": {
      "text/plain": [
       "495    5.198858\n",
       "496    4.840838\n",
       "497    3.291293\n",
       "498    3.202536\n",
       "499    2.540656\n",
       "Name: 7560, dtype: float64"
      ]
     },
     "execution_count": 422,
     "metadata": {},
     "output_type": "execute_result"
    }
   ],
   "source": [
    "# Select the last row for the cumulative returns (cumulative returns at 30 years)\n",
    "ending_cumulative_returns = portfolio_cumulative_returns.iloc[-1, :]\n",
    "ending_cumulative_returns.tail()"
   ]
  },
  {
   "cell_type": "code",
   "execution_count": 423,
   "metadata": {},
   "outputs": [
    {
     "data": {
      "text/plain": [
       "495    3.531465\n",
       "496    3.955882\n",
       "497    2.364189\n",
       "498    1.849896\n",
       "499    1.235374\n",
       "Name: 5040, dtype: float64"
      ]
     },
     "execution_count": 423,
     "metadata": {},
     "output_type": "execute_result"
    }
   ],
   "source": [
    "# Select the last row for the cumulative returns (cumulative returns at 20 years), 252*20=5040\n",
    "ending_cumulative_returns_20 = portfolio_cumulative_returns.iloc[5040, :]\n",
    "ending_cumulative_returns_20.tail()"
   ]
  },
  {
   "cell_type": "code",
   "execution_count": 424,
   "metadata": {},
   "outputs": [
    {
     "data": {
      "text/plain": [
       "0.05     2.561696\n",
       "0.95    10.618538\n",
       "Name: 7560, dtype: float64"
      ]
     },
     "execution_count": 424,
     "metadata": {},
     "output_type": "execute_result"
    }
   ],
   "source": [
    "# Display the 90% confidence interval for the ending returns\n",
    "confidence_interval = ending_cumulative_returns.quantile(q=[0.05, 0.95])\n",
    "confidence_interval"
   ]
  },
  {
   "cell_type": "code",
   "execution_count": 425,
   "metadata": {},
   "outputs": [
    {
     "data": {
      "text/plain": [
       "<matplotlib.lines.Line2D at 0x2a6b4d00048>"
      ]
     },
     "execution_count": 425,
     "metadata": {},
     "output_type": "execute_result"
    },
    {
     "data": {
      "image/png": "[encoded data removed]",
      "text/plain": [
       "<Figure size 432x288 with 1 Axes>"
      ]
     },
     "metadata": {
      "needs_background": "light"
     },
     "output_type": "display_data"
    }
   ],
   "source": [
    "# Visualize the distribution of the ending returns\n",
    "plt.figure();\n",
    "ending_cumulative_returns.plot(kind='hist', density=True)\n",
    "plt.axvline(confidence_interval.iloc[0], color='r')\n",
    "plt.axvline(confidence_interval.iloc[1], color='r')"
   ]
  },
  {
   "cell_type": "code",
   "execution_count": null,
   "metadata": {},
   "outputs": [],
   "source": []
  },
  {
   "cell_type": "markdown",
   "metadata": {},
   "source": [
    "---"
   ]
  },
  {
   "cell_type": "markdown",
   "metadata": {},
   "source": [
    "# Retirement Analysis\n",
    "\n",
    "In this section, you will use the monte carlo model to answer the following retirement planning questions:\n",
    "\n",
    "1. What are the expected cumulative returns at 30 years for the 10th, 50th, and 90th percentiles?\n",
    "2. Given an initial investment of `$20,000`, what is the expected portfolio return in dollars at the 10th, 50th, and 90th percentiles?\n",
    "3. Given the current projected annual income from the Plaid analysis, will a 4% withdraw rate from the retirement portfolio meet or exceed that value at the 10th percentile?\n",
    "4. How would a 50% increase in the initial investment amount affect the 4% retirement withdrawal?"
   ]
  },
  {
   "cell_type": "markdown",
   "metadata": {},
   "source": [
    "### What are the expected cumulative returns at 30 years for the 10th, 50th, and 90th percentiles?"
   ]
  },
  {
   "cell_type": "code",
   "execution_count": 426,
   "metadata": {},
   "outputs": [
    {
     "name": "stdout",
     "output_type": "stream",
     "text": [
      "The cumulative returns at the 10th percentile: 2.9486512788924926, at the 50th percentile: 5.100777485662547, and at the 90th percentile: 8.882881785573419\n"
     ]
    }
   ],
   "source": [
    "cum_returns_10 = np.percentile(ending_cumulative_returns,10)\n",
    "cum_returns_50 = np.percentile(ending_cumulative_returns,50)\n",
    "cum_returns_90 = np.percentile(ending_cumulative_returns,90)\n",
    "\n",
    "print(f\"The cumulative returns at the 10th percentile: {cum_returns_10}, at the 50th percentile: {cum_returns_50}, and at the 90th percentile: {cum_returns_90}\")"
   ]
  },
  {
   "cell_type": "code",
   "execution_count": null,
   "metadata": {},
   "outputs": [],
   "source": [
    "\n"
   ]
  },
  {
   "cell_type": "markdown",
   "metadata": {},
   "source": [
    "### Given an initial investment of `$20,000`, what is the expected portfolio return in dollars at the 10th, 50th, and 90th percentiles?"
   ]
  },
  {
   "cell_type": "code",
   "execution_count": 427,
   "metadata": {},
   "outputs": [
    {
     "name": "stdout",
     "output_type": "stream",
     "text": [
      "Given an initial investment of $20000, the expected portfolio return in dollars at the 10th percentile: $78973.02557784985, at the 50th percentile $122015.54971325095, and at the 90th percentile: $197657.63571146838\n"
     ]
    }
   ],
   "source": [
    "initial_investment = 20000\n",
    "\n",
    "portfolio_return_10 = initial_investment + (initial_investment * cum_returns_10)\n",
    "\n",
    "portfolio_return_50 = initial_investment + (initial_investment * cum_returns_50)\n",
    "\n",
    "portfolio_return_90 = initial_investment + (initial_investment * cum_returns_90)\n",
    "\n",
    "\n",
    "print(f\"Given an initial investment of ${initial_investment}, the expected portfolio return in dollars at the 10th percentile: ${portfolio_return_10}, at the 50th percentile ${portfolio_return_50}, and at the 90th percentile: ${portfolio_return_90}\")"
   ]
  },
  {
   "cell_type": "markdown",
   "metadata": {},
   "source": [
    "### Given the current projected annual income from the Plaid analysis, will a 4% withdraw rate from the retirement portfolio meet or exceed that value at the 10th percentile?\n",
    "\n",
    "Note: This is effectively saying that 90% of the expected returns will be greater than the return at the 10th percentile, so this can help measure the uncertainty about having enough funds at retirement"
   ]
  },
  {
   "cell_type": "code",
   "execution_count": 428,
   "metadata": {},
   "outputs": [
    {
     "name": "stdout",
     "output_type": "stream",
     "text": [
      "A 4% withdraw rate from the retirement portfolio at the 10th percentile is: $3158.921023113994, that does not exceed the projected annual income of $6085\n"
     ]
    }
   ],
   "source": [
    "withdraw = portfolio_return_10 * 0.04\n",
    "withdraw\n",
    "\n",
    "print(f\"A 4% withdraw rate from the retirement portfolio at the 10th percentile is: ${withdraw}, that does not exceed the projected annual income of $6085\")"
   ]
  },
  {
   "cell_type": "markdown",
   "metadata": {},
   "source": [
    "### How would a 50% increase in the initial investment amount affect the 4% retirement withdrawal?"
   ]
  },
  {
   "cell_type": "code",
   "execution_count": 431,
   "metadata": {},
   "outputs": [
    {
     "name": "stdout",
     "output_type": "stream",
     "text": [
      "Given an initial investment of $50000, the expected portfolio return in dollars at the 10th percentile: $197432.56394462462, at the 50th percentile $305038.87428312737, and at the 90th percentile: $494144.08927867096\n",
      "\n",
      "\n",
      "A 4% withdraw rate from the retirement portfolio at the 10th percentile with a 50% increase in the initial investment is: $7897.302557784985\n"
     ]
    }
   ],
   "source": [
    "initial_investment_increase = 30000\n",
    "\n",
    "portfolio_return_10_increase = initial_investment + (initial_investment * cum_returns_10)\n",
    "\n",
    "portfolio_return_50_increase = initial_investment + (initial_investment * cum_returns_50)\n",
    "\n",
    "portfolio_return_90_increase = initial_investment + (initial_investment * cum_returns_90)\n",
    "\n",
    "withdraw_increase = portfolio_return_10_increase * 0.04\n",
    "withdraw_increase\n",
    "\n",
    "print(f\"Given an initial investment of ${initial_investment_increase}, the expected portfolio return in dollars at the 10th percentile: ${portfolio_return_10_increase}, at the 50th percentile ${portfolio_return_50_increase}, and at the 90th percentile: ${portfolio_return_90_increase}\")\n",
    "print(\"\\n\")\n",
    "print(f\"A 4% withdraw rate from the retirement portfolio at the 10th percentile with a 50% increase in the initial investment is: ${withdraw_increase}\")\n"
   ]
  },
  {
   "cell_type": "markdown",
   "metadata": {},
   "source": [
    "### Optional Challenge\n",
    "\n",
    "In this section, you will calculate and plot the cumulative returns for the median and 90% confidence intervals. This plot shows the expected cumulative returns for any given day between the first day and the last day of investment. "
   ]
  },
  {
   "cell_type": "code",
   "execution_count": 455,
   "metadata": {},
   "outputs": [],
   "source": [
    "#for i in portfolio_cumulative_returns.iloc[i]\n",
    "initial_investment = 50000\n",
    "nintey_five = []\n",
    "fifty = []\n",
    "five = []\n",
    "\n",
    "nintey_five_df = pd.DataFrame() \n",
    "fifty_df = pd.DataFrame() \n",
    "five_df = pd.DataFrame() \n",
    "\n",
    "\n",
    "for i in range(len(portfolio_cumulative_returns)):\n",
    "\n",
    "    test_1 = (np.percentile(portfolio_cumulative_returns.iloc[i],95) * initial_investment)\n",
    "    test_2 = (np.percentile(portfolio_cumulative_returns.iloc[i],50) * initial_investment)\n",
    "    test_3 = (np.percentile(portfolio_cumulative_returns.iloc[i],5) * initial_investment)\n",
    "\n",
    "    nintey_five.append(test_1)\n",
    "    fifty.append(test_2)\n",
    "    five.append(test_3)\n",
    "    \n",
    "nintey_five_df[\"95th percentile\"] = pd.Series(nintey_five)\n",
    "fifty_df[\"50th percentile\"] = pd.Series(fifty)\n",
    "five_df[\"5th percentile\"] = pd.Series(five)\n",
    "\n"
   ]
  },
  {
   "cell_type": "code",
   "execution_count": 457,
   "metadata": {},
   "outputs": [
    {
     "data": {
      "text/plain": [
       "<matplotlib.axes._subplots.AxesSubplot at 0x2a6b9cb1128>"
      ]
     },
     "execution_count": 457,
     "metadata": {},
     "output_type": "execute_result"
    },
    {
     "data": {
      "image/png": "[encoded data removed]",
      "text/plain": [
       "<Figure size 432x288 with 1 Axes>"
      ]
     },
     "metadata": {
      "needs_background": "light"
     },
     "output_type": "display_data"
    }
   ],
   "source": [
    "ax= nintey_five_df.plot.line(title=\"Portfolio Performance over Time\")\n",
    "\n",
    "fifty_df.plot(ax=ax)\n",
    "five_df.plot(ax=ax)"
   ]
  },
  {
   "cell_type": "code",
   "execution_count": null,
   "metadata": {},
   "outputs": [],
   "source": []
  }
 ],
 "metadata": {
  "kernel_info": {
   "name": "dev"
  },
  "kernelspec": {
   "display_name": "Python 3",
   "language": "python",
   "name": "python3"
  },
  "language_info": {
   "codemirror_mode": {
    "name": "ipython",
    "version": 3
   },
   "file_extension": ".py",
   "mimetype": "text/x-python",
   "name": "python",
   "nbconvert_exporter": "python",
   "pygments_lexer": "ipython3",
   "version": "3.7.3"
  },
  "nteract": {
   "version": "0.12.3"
  }
 },
 "nbformat": 4,
 "nbformat_minor": 4
}
