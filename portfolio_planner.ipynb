{
 "cells": [
  {
   "cell_type": "code",
   "execution_count": 7,
   "metadata": {},
   "outputs": [],
   "source": [
    "import numpy as np\n",
    "import pandas as pd\n",
    "from datetime import datetime, timedelta\n",
    "import matplotlib.pyplot as plt\n",
    "%matplotlib inline\n",
    "import os"
   ]
  },
  {
   "cell_type": "code",
   "execution_count": 8,
   "metadata": {},
   "outputs": [],
   "source": [
    "np.random.seed(42)"
   ]
  },
  {
   "cell_type": "markdown",
   "metadata": {},
   "source": [
    "# Portfolio Planner\n",
    "\n",
    "In this activity, you will use the iedfinance api to grab historical data for a 60/40 portfolio using `SPY` to represent the stock portion and `AGG` to represent the bonds."
   ]
  },
  {
   "cell_type": "code",
   "execution_count": 9,
   "metadata": {},
   "outputs": [
    {
     "data": {
      "text/plain": [
       "str"
      ]
     },
     "execution_count": 9,
     "metadata": {},
     "output_type": "execute_result"
    }
   ],
   "source": [
    "from iexfinance.stocks import get_historical_data\n",
    "from iexfinance.refdata import get_symbols\n",
    "import iexfinance as iex\n",
    "\n",
    "key = os.getenv(\"IEX_TOKEN\")\n",
    "type(key)\n"
   ]
  },
  {
   "cell_type": "markdown",
   "metadata": {},
   "source": [
    "# Data Collection\n",
    "\n",
    "In this step, you will need to use the IEX api to fetch closing prices for the `SPY` and `AGG` tickers. Save the results as a pandas DataFrame"
   ]
  },
  {
   "cell_type": "code",
   "execution_count": 10,
   "metadata": {},
   "outputs": [
    {
     "data": {
      "text/html": [
       "<div>\n",
       "<style scoped>\n",
       "    .dataframe tbody tr th:only-of-type {\n",
       "        vertical-align: middle;\n",
       "    }\n",
       "\n",
       "    .dataframe tbody tr th {\n",
       "        vertical-align: top;\n",
       "    }\n",
       "\n",
       "    .dataframe thead tr th {\n",
       "        text-align: left;\n",
       "    }\n",
       "\n",
       "    .dataframe thead tr:last-of-type th {\n",
       "        text-align: right;\n",
       "    }\n",
       "</style>\n",
       "<table border=\"1\" class=\"dataframe\">\n",
       "  <thead>\n",
       "    <tr>\n",
       "      <th></th>\n",
       "      <th>SPY</th>\n",
       "      <th>AGG</th>\n",
       "    </tr>\n",
       "    <tr>\n",
       "      <th></th>\n",
       "      <th>close</th>\n",
       "      <th>close</th>\n",
       "    </tr>\n",
       "    <tr>\n",
       "      <th>date</th>\n",
       "      <th></th>\n",
       "      <th></th>\n",
       "    </tr>\n",
       "  </thead>\n",
       "  <tbody>\n",
       "    <tr>\n",
       "      <td>2014-10-02</td>\n",
       "      <td>194.38</td>\n",
       "      <td>109.35</td>\n",
       "    </tr>\n",
       "    <tr>\n",
       "      <td>2014-10-03</td>\n",
       "      <td>196.52</td>\n",
       "      <td>109.30</td>\n",
       "    </tr>\n",
       "    <tr>\n",
       "      <td>2014-10-06</td>\n",
       "      <td>196.29</td>\n",
       "      <td>109.40</td>\n",
       "    </tr>\n",
       "    <tr>\n",
       "      <td>2014-10-07</td>\n",
       "      <td>193.26</td>\n",
       "      <td>109.82</td>\n",
       "    </tr>\n",
       "    <tr>\n",
       "      <td>2014-10-08</td>\n",
       "      <td>196.64</td>\n",
       "      <td>110.13</td>\n",
       "    </tr>\n",
       "  </tbody>\n",
       "</table>\n",
       "</div>"
      ],
      "text/plain": [
       "               SPY     AGG\n",
       "             close   close\n",
       "date                      \n",
       "2014-10-02  194.38  109.35\n",
       "2014-10-03  196.52  109.30\n",
       "2014-10-06  196.29  109.40\n",
       "2014-10-07  193.26  109.82\n",
       "2014-10-08  196.64  110.13"
      ]
     },
     "execution_count": 10,
     "metadata": {},
     "output_type": "execute_result"
    }
   ],
   "source": [
    "\n",
    "\n",
    "list_of_tickers = [\"SPY\", \"AGG\"]\n",
    "\n",
    "end_date = datetime.now()\n",
    "start_date = end_date + timedelta(-1825)\n",
    "\n",
    "# Get 5 year's worth of historical data for `SPY` and `AGG`\n",
    "df = get_historical_data(list_of_tickers, start_date, end_date,  output_format='pandas')\n",
    "df.drop(columns=['open', 'high', 'low', 'volume'], level=1, inplace=True)\n",
    "df.head()"
   ]
  },
  {
   "cell_type": "code",
   "execution_count": 11,
   "metadata": {},
   "outputs": [
    {
     "data": {
      "text/plain": [
       "<matplotlib.axes._subplots.AxesSubplot at 0x1a8fefeb9b0>"
      ]
     },
     "execution_count": 11,
     "metadata": {},
     "output_type": "execute_result"
    },
    {
     "data": {
      "image/png": "[encoded data removed]",
      "text/plain": [
       "<Figure size 432x288 with 1 Axes>"
      ]
     },
     "metadata": {
      "needs_background": "light"
     },
     "output_type": "display_data"
    }
   ],
   "source": [
    "daily_change_original = df.pct_change()\n",
    "cum_return = (1+daily_change_original).cumprod()\n",
    "cum_return.tail()\n",
    "\n",
    "cum_return.plot()"
   ]
  },
  {
   "cell_type": "markdown",
   "metadata": {},
   "source": [
    "# Monte Carlo Simulation\n",
    "\n",
    "In this step, you will run Monte Carlo Simulations for your portfolio to model portfolio performance at different retirement ages. \n",
    "\n",
    "Complete the following steps:\n",
    "1. Calculate the daily returns for the SPY and AGG closing prices.\n",
    "2. Calculate volatility for both the SPY and AGG closing prices.\n",
    "3. Find the last day's closing price for both stocks and save those as variables.\n",
    "4. Run a Monte Carlo Simulation of at least 100 iterations and generate at least 20 years of closing prices\n",
    "\n",
    "### HINTS:\n",
    "There are 252 trading days per year, so the number of records to generate for each Monte Carlo run will be 252 days * 20 years"
   ]
  },
  {
   "cell_type": "code",
   "execution_count": 12,
   "metadata": {},
   "outputs": [
    {
     "data": {
      "text/html": [
       "<div>\n",
       "<style scoped>\n",
       "    .dataframe tbody tr th:only-of-type {\n",
       "        vertical-align: middle;\n",
       "    }\n",
       "\n",
       "    .dataframe tbody tr th {\n",
       "        vertical-align: top;\n",
       "    }\n",
       "\n",
       "    .dataframe thead tr th {\n",
       "        text-align: left;\n",
       "    }\n",
       "\n",
       "    .dataframe thead tr:last-of-type th {\n",
       "        text-align: right;\n",
       "    }\n",
       "</style>\n",
       "<table border=\"1\" class=\"dataframe\">\n",
       "  <thead>\n",
       "    <tr>\n",
       "      <th></th>\n",
       "      <th>SPY</th>\n",
       "      <th>AGG</th>\n",
       "    </tr>\n",
       "    <tr>\n",
       "      <th></th>\n",
       "      <th>close</th>\n",
       "      <th>close</th>\n",
       "    </tr>\n",
       "    <tr>\n",
       "      <th>date</th>\n",
       "      <th></th>\n",
       "      <th></th>\n",
       "    </tr>\n",
       "  </thead>\n",
       "  <tbody>\n",
       "    <tr>\n",
       "      <td>2019-09-24</td>\n",
       "      <td>-0.007847</td>\n",
       "      <td>0.002744</td>\n",
       "    </tr>\n",
       "    <tr>\n",
       "      <td>2019-09-25</td>\n",
       "      <td>0.005915</td>\n",
       "      <td>-0.004149</td>\n",
       "    </tr>\n",
       "    <tr>\n",
       "      <td>2019-09-26</td>\n",
       "      <td>-0.002083</td>\n",
       "      <td>0.001684</td>\n",
       "    </tr>\n",
       "    <tr>\n",
       "      <td>2019-09-27</td>\n",
       "      <td>-0.005387</td>\n",
       "      <td>0.001239</td>\n",
       "    </tr>\n",
       "    <tr>\n",
       "      <td>2019-09-30</td>\n",
       "      <td>0.004638</td>\n",
       "      <td>0.000265</td>\n",
       "    </tr>\n",
       "  </tbody>\n",
       "</table>\n",
       "</div>"
      ],
      "text/plain": [
       "                 SPY       AGG\n",
       "               close     close\n",
       "date                          \n",
       "2019-09-24 -0.007847  0.002744\n",
       "2019-09-25  0.005915 -0.004149\n",
       "2019-09-26 -0.002083  0.001684\n",
       "2019-09-27 -0.005387  0.001239\n",
       "2019-09-30  0.004638  0.000265"
      ]
     },
     "execution_count": 12,
     "metadata": {},
     "output_type": "execute_result"
    }
   ],
   "source": [
    "# Calculate the daily roi for the stocks\n",
    "daily_returns = df.pct_change()\n",
    "daily_returns.tail()"
   ]
  },
  {
   "cell_type": "code",
   "execution_count": 13,
   "metadata": {},
   "outputs": [
    {
     "data": {
      "text/plain": [
       "0.00037427732410179814"
      ]
     },
     "execution_count": 13,
     "metadata": {},
     "output_type": "execute_result"
    }
   ],
   "source": [
    "avg_daily_return_spy = daily_returns.mean()['SPY']['close']\n",
    "avg_daily_return_agg = daily_returns.mean()['AGG']['close']\n",
    "avg_daily_return_spy"
   ]
  },
  {
   "cell_type": "code",
   "execution_count": 14,
   "metadata": {},
   "outputs": [
    {
     "data": {
      "text/plain": [
       "0.00203174691041178"
      ]
     },
     "execution_count": 14,
     "metadata": {},
     "output_type": "execute_result"
    }
   ],
   "source": [
    "# Calculate volatility\n",
    "std_dev_daily_return_spy = daily_returns.std()['SPY']['close']\n",
    "std_dev_daily_return_agg = daily_returns.std()['AGG']['close']\n",
    "std_dev_daily_return_agg"
   ]
  },
  {
   "cell_type": "code",
   "execution_count": 15,
   "metadata": {},
   "outputs": [],
   "source": [
    "# Save the last day's closing price\n",
    "spy_last_price = df['SPY']['close'][-1]\n",
    "agg_last_price = df['AGG']['close'][-1]"
   ]
  },
  {
   "cell_type": "code",
   "execution_count": 16,
   "metadata": {},
   "outputs": [],
   "source": [
    "# Setup the Monte Carlo Parameters\n",
    "number_simulations = 500\n",
    "number_records = 252 * 30\n",
    "monte_carlo = pd.DataFrame()\n",
    "portfolio_cumulative_returns = pd.DataFrame()"
   ]
  },
  {
   "cell_type": "code",
   "execution_count": 17,
   "metadata": {},
   "outputs": [
    {
     "data": {
      "text/html": [
       "<div>\n",
       "<style scoped>\n",
       "    .dataframe tbody tr th:only-of-type {\n",
       "        vertical-align: middle;\n",
       "    }\n",
       "\n",
       "    .dataframe tbody tr th {\n",
       "        vertical-align: top;\n",
       "    }\n",
       "\n",
       "    .dataframe thead th {\n",
       "        text-align: right;\n",
       "    }\n",
       "</style>\n",
       "<table border=\"1\" class=\"dataframe\">\n",
       "  <thead>\n",
       "    <tr style=\"text-align: right;\">\n",
       "      <th></th>\n",
       "      <th>0</th>\n",
       "      <th>1</th>\n",
       "      <th>2</th>\n",
       "      <th>3</th>\n",
       "      <th>4</th>\n",
       "      <th>5</th>\n",
       "      <th>6</th>\n",
       "      <th>7</th>\n",
       "      <th>8</th>\n",
       "      <th>9</th>\n",
       "      <th>...</th>\n",
       "      <th>490</th>\n",
       "      <th>491</th>\n",
       "      <th>492</th>\n",
       "      <th>493</th>\n",
       "      <th>494</th>\n",
       "      <th>495</th>\n",
       "      <th>496</th>\n",
       "      <th>497</th>\n",
       "      <th>498</th>\n",
       "      <th>499</th>\n",
       "    </tr>\n",
       "  </thead>\n",
       "  <tbody>\n",
       "    <tr>\n",
       "      <td>7556</td>\n",
       "      <td>6.364699</td>\n",
       "      <td>5.034122</td>\n",
       "      <td>7.063802</td>\n",
       "      <td>7.681403</td>\n",
       "      <td>6.901422</td>\n",
       "      <td>5.258432</td>\n",
       "      <td>6.642446</td>\n",
       "      <td>10.796538</td>\n",
       "      <td>7.119201</td>\n",
       "      <td>7.784339</td>\n",
       "      <td>...</td>\n",
       "      <td>1.907372</td>\n",
       "      <td>7.529529</td>\n",
       "      <td>4.185424</td>\n",
       "      <td>6.953119</td>\n",
       "      <td>8.632365</td>\n",
       "      <td>9.694398</td>\n",
       "      <td>2.483544</td>\n",
       "      <td>5.953658</td>\n",
       "      <td>11.784051</td>\n",
       "      <td>2.620126</td>\n",
       "    </tr>\n",
       "    <tr>\n",
       "      <td>7557</td>\n",
       "      <td>6.352853</td>\n",
       "      <td>5.052715</td>\n",
       "      <td>7.080875</td>\n",
       "      <td>7.672488</td>\n",
       "      <td>6.844263</td>\n",
       "      <td>5.252639</td>\n",
       "      <td>6.603162</td>\n",
       "      <td>10.860664</td>\n",
       "      <td>7.075030</td>\n",
       "      <td>7.771321</td>\n",
       "      <td>...</td>\n",
       "      <td>1.889507</td>\n",
       "      <td>7.523036</td>\n",
       "      <td>4.175303</td>\n",
       "      <td>6.977302</td>\n",
       "      <td>8.625421</td>\n",
       "      <td>9.754981</td>\n",
       "      <td>2.508315</td>\n",
       "      <td>5.952940</td>\n",
       "      <td>11.901728</td>\n",
       "      <td>2.602907</td>\n",
       "    </tr>\n",
       "    <tr>\n",
       "      <td>7558</td>\n",
       "      <td>6.320411</td>\n",
       "      <td>5.052606</td>\n",
       "      <td>7.146453</td>\n",
       "      <td>7.675060</td>\n",
       "      <td>6.863675</td>\n",
       "      <td>5.257780</td>\n",
       "      <td>6.617882</td>\n",
       "      <td>10.873186</td>\n",
       "      <td>7.124385</td>\n",
       "      <td>7.738899</td>\n",
       "      <td>...</td>\n",
       "      <td>1.887254</td>\n",
       "      <td>7.562521</td>\n",
       "      <td>4.176173</td>\n",
       "      <td>7.002572</td>\n",
       "      <td>8.675898</td>\n",
       "      <td>9.717215</td>\n",
       "      <td>2.505185</td>\n",
       "      <td>5.909495</td>\n",
       "      <td>11.982815</td>\n",
       "      <td>2.588311</td>\n",
       "    </tr>\n",
       "    <tr>\n",
       "      <td>7559</td>\n",
       "      <td>6.307919</td>\n",
       "      <td>5.087242</td>\n",
       "      <td>7.170189</td>\n",
       "      <td>7.680668</td>\n",
       "      <td>6.856408</td>\n",
       "      <td>5.284284</td>\n",
       "      <td>6.615344</td>\n",
       "      <td>10.840404</td>\n",
       "      <td>7.133742</td>\n",
       "      <td>7.705401</td>\n",
       "      <td>...</td>\n",
       "      <td>1.899235</td>\n",
       "      <td>7.596686</td>\n",
       "      <td>4.137809</td>\n",
       "      <td>6.946822</td>\n",
       "      <td>8.688692</td>\n",
       "      <td>9.680317</td>\n",
       "      <td>2.532887</td>\n",
       "      <td>5.901109</td>\n",
       "      <td>12.024990</td>\n",
       "      <td>2.587505</td>\n",
       "    </tr>\n",
       "    <tr>\n",
       "      <td>7560</td>\n",
       "      <td>6.298663</td>\n",
       "      <td>5.105867</td>\n",
       "      <td>7.224299</td>\n",
       "      <td>7.683280</td>\n",
       "      <td>6.873958</td>\n",
       "      <td>5.294948</td>\n",
       "      <td>6.606322</td>\n",
       "      <td>10.782401</td>\n",
       "      <td>7.124074</td>\n",
       "      <td>7.701149</td>\n",
       "      <td>...</td>\n",
       "      <td>1.900810</td>\n",
       "      <td>7.637136</td>\n",
       "      <td>4.116556</td>\n",
       "      <td>7.008355</td>\n",
       "      <td>8.694486</td>\n",
       "      <td>9.684851</td>\n",
       "      <td>2.521088</td>\n",
       "      <td>5.851976</td>\n",
       "      <td>11.925462</td>\n",
       "      <td>2.591350</td>\n",
       "    </tr>\n",
       "  </tbody>\n",
       "</table>\n",
       "<p>5 rows × 500 columns</p>\n",
       "</div>"
      ],
      "text/plain": [
       "           0         1         2         3         4         5         6    \\\n",
       "7556  6.364699  5.034122  7.063802  7.681403  6.901422  5.258432  6.642446   \n",
       "7557  6.352853  5.052715  7.080875  7.672488  6.844263  5.252639  6.603162   \n",
       "7558  6.320411  5.052606  7.146453  7.675060  6.863675  5.257780  6.617882   \n",
       "7559  6.307919  5.087242  7.170189  7.680668  6.856408  5.284284  6.615344   \n",
       "7560  6.298663  5.105867  7.224299  7.683280  6.873958  5.294948  6.606322   \n",
       "\n",
       "            7         8         9    ...       490       491       492  \\\n",
       "7556  10.796538  7.119201  7.784339  ...  1.907372  7.529529  4.185424   \n",
       "7557  10.860664  7.075030  7.771321  ...  1.889507  7.523036  4.175303   \n",
       "7558  10.873186  7.124385  7.738899  ...  1.887254  7.562521  4.176173   \n",
       "7559  10.840404  7.133742  7.705401  ...  1.899235  7.596686  4.137809   \n",
       "7560  10.782401  7.124074  7.701149  ...  1.900810  7.637136  4.116556   \n",
       "\n",
       "           493       494       495       496       497        498       499  \n",
       "7556  6.953119  8.632365  9.694398  2.483544  5.953658  11.784051  2.620126  \n",
       "7557  6.977302  8.625421  9.754981  2.508315  5.952940  11.901728  2.602907  \n",
       "7558  7.002572  8.675898  9.717215  2.505185  5.909495  11.982815  2.588311  \n",
       "7559  6.946822  8.688692  9.680317  2.532887  5.901109  12.024990  2.587505  \n",
       "7560  7.008355  8.694486  9.684851  2.521088  5.851976  11.925462  2.591350  \n",
       "\n",
       "[5 rows x 500 columns]"
      ]
     },
     "execution_count": 17,
     "metadata": {},
     "output_type": "execute_result"
    }
   ],
   "source": [
    "# Run the Monte Carlo Simulation\n",
    "for n in range(number_simulations):\n",
    "    \n",
    "    sim_price_list_spy = [spy_last_price]\n",
    "    sim_price_list_agg = [agg_last_price]\n",
    "    \n",
    "    for i in range(number_records):\n",
    "        \n",
    "        sim_price_result_spy = sim_price_list_spy[-1] * (1 + np.random.normal(avg_daily_return_spy,std_dev_daily_return_spy))\n",
    "        sim_price_result_agg = sim_price_list_agg[-1] * (1 + np.random.normal(avg_daily_return_agg,std_dev_daily_return_agg))\n",
    "        \n",
    "        sim_price_list_spy.append(sim_price_result_spy)\n",
    "        sim_price_list_agg.append(sim_price_result_agg)\n",
    "    \n",
    "    monte_carlo[\"SPY prices\"] = pd.Series(sim_price_list_spy)\n",
    "    monte_carlo[\"AGG prices\"] = pd.Series(sim_price_list_agg)\n",
    "    \n",
    "    simulated_daily_returns = monte_carlo.pct_change()\n",
    "\n",
    "    weights = [0.60, 0.40]\n",
    "    \n",
    "    portfolio_daily_returns = simulated_daily_returns.dot(weights)\n",
    "    portfolio_cumulative_returns[n] = (1 + portfolio_daily_returns.fillna(0)).cumprod()\n",
    "\n",
    "portfolio_cumulative_returns.tail()\n"
   ]
  },
  {
   "cell_type": "code",
   "execution_count": 18,
   "metadata": {},
   "outputs": [
    {
     "data": {
      "text/plain": [
       "<matplotlib.axes._subplots.AxesSubplot at 0x1a8ff186550>"
      ]
     },
     "execution_count": 18,
     "metadata": {},
     "output_type": "execute_result"
    },
    {
     "data": {
      "image/png": "[encoded data removed]",
      "text/plain": [
       "<Figure size 432x288 with 1 Axes>"
      ]
     },
     "metadata": {
      "needs_background": "light"
     },
     "output_type": "display_data"
    }
   ],
   "source": [
    "# Visualize the Simulation\n",
    "\n",
    "plot_title = f\"{n+1} Simulations of Cumulative Portfolio Return Trajectories Over the Next 30 years\"\n",
    "portfolio_cumulative_returns.plot(legend=None, title=plot_title)"
   ]
  },
  {
   "cell_type": "code",
   "execution_count": 19,
   "metadata": {},
   "outputs": [
    {
     "data": {
      "text/plain": [
       "495     9.684851\n",
       "496     2.521088\n",
       "497     5.851976\n",
       "498    11.925462\n",
       "499     2.591350\n",
       "Name: 7560, dtype: float64"
      ]
     },
     "execution_count": 19,
     "metadata": {},
     "output_type": "execute_result"
    }
   ],
   "source": [
    "# Select the last row for the cumulative returns (cumulative returns at 30 years)\n",
    "ending_cumulative_returns = portfolio_cumulative_returns.iloc[-1, :]\n",
    "ending_cumulative_returns.tail()"
   ]
  },
  {
   "cell_type": "code",
   "execution_count": 20,
   "metadata": {},
   "outputs": [
    {
     "data": {
      "text/plain": [
       "495    4.554370\n",
       "496    1.705706\n",
       "497    3.481869\n",
       "498    4.659312\n",
       "499    2.418660\n",
       "Name: 5040, dtype: float64"
      ]
     },
     "execution_count": 20,
     "metadata": {},
     "output_type": "execute_result"
    }
   ],
   "source": [
    "# Select the last row for the cumulative returns (cumulative returns at 20 years), 252*20=5040\n",
    "ending_cumulative_returns_20 = portfolio_cumulative_returns.iloc[5040, :]\n",
    "ending_cumulative_returns_20.tail()"
   ]
  },
  {
   "cell_type": "code",
   "execution_count": 21,
   "metadata": {},
   "outputs": [
    {
     "data": {
      "text/plain": [
       "0.05     2.428359\n",
       "0.95    11.036749\n",
       "Name: 7560, dtype: float64"
      ]
     },
     "execution_count": 21,
     "metadata": {},
     "output_type": "execute_result"
    }
   ],
   "source": [
    "# Display the 90% confidence interval for the ending returns\n",
    "confidence_interval = ending_cumulative_returns.quantile(q=[0.05, 0.95])\n",
    "confidence_interval"
   ]
  },
  {
   "cell_type": "code",
   "execution_count": 22,
   "metadata": {},
   "outputs": [
    {
     "data": {
      "text/plain": [
       "<matplotlib.lines.Line2D at 0x1a8ff110e10>"
      ]
     },
     "execution_count": 22,
     "metadata": {},
     "output_type": "execute_result"
    },
    {
     "data": {
      "image/png": "[encoded data removed]",
      "text/plain": [
       "<Figure size 432x288 with 1 Axes>"
      ]
     },
     "metadata": {
      "needs_background": "light"
     },
     "output_type": "display_data"
    }
   ],
   "source": [
    "# Visualize the distribution of the ending returns\n",
    "plt.figure();\n",
    "ending_cumulative_returns.plot(kind='hist', density=True)\n",
    "plt.axvline(confidence_interval.iloc[0], color='r')\n",
    "plt.axvline(confidence_interval.iloc[1], color='r')"
   ]
  },
  {
   "cell_type": "code",
   "execution_count": null,
   "metadata": {},
   "outputs": [],
   "source": []
  },
  {
   "cell_type": "markdown",
   "metadata": {},
   "source": [
    "---"
   ]
  },
  {
   "cell_type": "markdown",
   "metadata": {},
   "source": [
    "# Retirement Analysis\n",
    "\n",
    "In this section, you will use the monte carlo model to answer the following retirement planning questions:\n",
    "\n",
    "1. What are the expected cumulative returns at 30 years for the 10th, 50th, and 90th percentiles?\n",
    "2. Given an initial investment of `$20,000`, what is the expected portfolio return in dollars at the 10th, 50th, and 90th percentiles?\n",
    "3. Given the current projected annual income from the Plaid analysis, will a 4% withdraw rate from the retirement portfolio meet or exceed that value at the 10th percentile?\n",
    "4. How would a 50% increase in the initial investment amount affect the 4% retirement withdrawal?"
   ]
  },
  {
   "cell_type": "markdown",
   "metadata": {},
   "source": [
    "### What are the expected cumulative returns at 30 years for the 10th, 50th, and 90th percentiles?"
   ]
  },
  {
   "cell_type": "code",
   "execution_count": 23,
   "metadata": {},
   "outputs": [
    {
     "name": "stdout",
     "output_type": "stream",
     "text": [
      "The cumulative returns at the 10th percentile: 3.0666667033202897, at the 50th percentile: 5.236916111888476, and at the 90th percentile: 9.134391873268179\n"
     ]
    }
   ],
   "source": [
    "cum_returns_10 = np.percentile(ending_cumulative_returns,10)\n",
    "cum_returns_50 = np.percentile(ending_cumulative_returns,50)\n",
    "cum_returns_90 = np.percentile(ending_cumulative_returns,90)\n",
    "\n",
    "print(f\"The cumulative returns at the 10th percentile: {cum_returns_10}, at the 50th percentile: {cum_returns_50}, and at the 90th percentile: {cum_returns_90}\")"
   ]
  },
  {
   "cell_type": "code",
   "execution_count": null,
   "metadata": {},
   "outputs": [],
   "source": [
    "\n"
   ]
  },
  {
   "cell_type": "markdown",
   "metadata": {},
   "source": [
    "### Given an initial investment of `$20,000`, what is the expected portfolio return in dollars at the 10th, 50th, and 90th percentiles?"
   ]
  },
  {
   "cell_type": "code",
   "execution_count": 24,
   "metadata": {},
   "outputs": [
    {
     "name": "stdout",
     "output_type": "stream",
     "text": [
      "Given an initial investment of $20000, the expected portfolio return in dollars at the 10th percentile: $81333.33406640579, at the 50th percentile $124738.32223776952, and at the 90th percentile: $202687.83746536358\n"
     ]
    }
   ],
   "source": [
    "initial_investment = 20000\n",
    "\n",
    "portfolio_return_10 = initial_investment + (initial_investment * cum_returns_10)\n",
    "\n",
    "portfolio_return_50 = initial_investment + (initial_investment * cum_returns_50)\n",
    "\n",
    "portfolio_return_90 = initial_investment + (initial_investment * cum_returns_90)\n",
    "\n",
    "\n",
    "print(f\"Given an initial investment of ${initial_investment}, the expected portfolio return in dollars at the 10th percentile: ${portfolio_return_10}, at the 50th percentile ${portfolio_return_50}, and at the 90th percentile: ${portfolio_return_90}\")"
   ]
  },
  {
   "cell_type": "markdown",
   "metadata": {},
   "source": [
    "### Given the current projected annual income from the Plaid analysis, will a 4% withdraw rate from the retirement portfolio meet or exceed that value at the 10th percentile?\n",
    "\n",
    "Note: This is effectively saying that 90% of the expected returns will be greater than the return at the 10th percentile, so this can help measure the uncertainty about having enough funds at retirement"
   ]
  },
  {
   "cell_type": "code",
   "execution_count": 25,
   "metadata": {},
   "outputs": [
    {
     "name": "stdout",
     "output_type": "stream",
     "text": [
      "A 4% withdraw rate from the retirement portfolio at the 10th percentile is: $3253.3333626562317, that does not exceed the projected annual income of $6085\n"
     ]
    }
   ],
   "source": [
    "withdraw = portfolio_return_10 * 0.04\n",
    "withdraw\n",
    "\n",
    "print(f\"A 4% withdraw rate from the retirement portfolio at the 10th percentile is: ${withdraw}, that does not exceed the projected annual income of $6085\")"
   ]
  },
  {
   "cell_type": "markdown",
   "metadata": {},
   "source": [
    "### How would a 50% increase in the initial investment amount affect the 4% retirement withdrawal?"
   ]
  },
  {
   "cell_type": "code",
   "execution_count": 30,
   "metadata": {},
   "outputs": [
    {
     "name": "stdout",
     "output_type": "stream",
     "text": [
      "Given an initial investment of $50000, the expected portfolio return in dollars at the 10th percentile: $203333.3351660145, at the 50th percentile $311845.8055944238, and at the 90th percentile: $506719.59366340894\n",
      "\n",
      "\n",
      "A 4% withdraw rate from the retirement portfolio at the 10th percentile with a $50000 initial investment is: $8133.3334066405805 and that does not exceed the projected annual income of $6085\n"
     ]
    }
   ],
   "source": [
    "initial_investment_increase = 50000\n",
    "\n",
    "portfolio_return_10_increase = initial_investment_increase + (initial_investment_increase * cum_returns_10)\n",
    "\n",
    "portfolio_return_50_increase = initial_investment_increase + (initial_investment_increase * cum_returns_50)\n",
    "\n",
    "portfolio_return_90_increase = initial_investment_increase + (initial_investment_increase * cum_returns_90)\n",
    "\n",
    "withdraw_increase = portfolio_return_10_increase * 0.04\n",
    "withdraw_increase\n",
    "\n",
    "print(f\"Given an initial investment of ${initial_investment_increase}, the expected portfolio return in dollars at the 10th percentile: ${portfolio_return_10_increase}, at the 50th percentile ${portfolio_return_50_increase}, and at the 90th percentile: ${portfolio_return_90_increase}\")\n",
    "print(\"\\n\")\n",
    "print(f\"A 4% withdraw rate from the retirement portfolio at the 10th percentile with a ${initial_investment_increase} initial investment is: ${withdraw_increase} and that does not exceed the projected annual income of $6085\")\n"
   ]
  },
  {
   "cell_type": "markdown",
   "metadata": {},
   "source": [
    "### Optional Challenge\n",
    "\n",
    "In this section, you will calculate and plot the cumulative returns for the median and 90% confidence intervals. This plot shows the expected cumulative returns for any given day between the first day and the last day of investment. "
   ]
  },
  {
   "cell_type": "code",
   "execution_count": 455,
   "metadata": {},
   "outputs": [],
   "source": [
    "#for i in portfolio_cumulative_returns.iloc[i]\n",
    "initial_investment = 50000\n",
    "nintey_five = []\n",
    "fifty = []\n",
    "five = []\n",
    "\n",
    "nintey_five_df = pd.DataFrame() \n",
    "fifty_df = pd.DataFrame() \n",
    "five_df = pd.DataFrame() \n",
    "\n",
    "\n",
    "for i in range(len(portfolio_cumulative_returns)):\n",
    "\n",
    "    test_1 = (np.percentile(portfolio_cumulative_returns.iloc[i],95) * initial_investment)\n",
    "    test_2 = (np.percentile(portfolio_cumulative_returns.iloc[i],50) * initial_investment)\n",
    "    test_3 = (np.percentile(portfolio_cumulative_returns.iloc[i],5) * initial_investment)\n",
    "\n",
    "    nintey_five.append(test_1)\n",
    "    fifty.append(test_2)\n",
    "    five.append(test_3)\n",
    "    \n",
    "nintey_five_df[\"95th percentile\"] = pd.Series(nintey_five)\n",
    "fifty_df[\"50th percentile\"] = pd.Series(fifty)\n",
    "five_df[\"5th percentile\"] = pd.Series(five)\n",
    "\n"
   ]
  },
  {
   "cell_type": "code",
   "execution_count": 457,
   "metadata": {},
   "outputs": [
    {
     "data": {
      "text/plain": [
       "<matplotlib.axes._subplots.AxesSubplot at 0x2a6b9cb1128>"
      ]
     },
     "execution_count": 457,
     "metadata": {},
     "output_type": "execute_result"
    },
    {
     "data": {
      "image/png": "[encoded data removed]",
      "text/plain": [
       "<Figure size 432x288 with 1 Axes>"
      ]
     },
     "metadata": {
      "needs_background": "light"
     },
     "output_type": "display_data"
    }
   ],
   "source": [
    "ax= nintey_five_df.plot.line(title=\"Portfolio Performance over Time\")\n",
    "\n",
    "fifty_df.plot(ax=ax)\n",
    "five_df.plot(ax=ax)"
   ]
  },
  {
   "cell_type": "code",
   "execution_count": null,
   "metadata": {},
   "outputs": [],
   "source": []
  }
 ],
 "metadata": {
  "kernel_info": {
   "name": "dev"
  },
  "kernelspec": {
   "display_name": "Python 3",
   "language": "python",
   "name": "python3"
  },
  "language_info": {
   "codemirror_mode": {
    "name": "ipython",
    "version": 3
   },
   "file_extension": ".py",
   "mimetype": "text/x-python",
   "name": "python",
   "nbconvert_exporter": "python",
   "pygments_lexer": "ipython3",
   "version": "3.7.3"
  },
  "nteract": {
   "version": "0.12.3"
  }
 },
 "nbformat": 4,
 "nbformat_minor": 4
}
